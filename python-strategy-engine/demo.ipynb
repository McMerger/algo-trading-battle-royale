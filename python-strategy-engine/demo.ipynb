# Demo: Multi-Agent Trading Battle Royale
# The notebook registers agents, runs mock competitions, and displays results.

import random
from strategy_engine import TradingAgent, BanditSelector

# Define sample strategy functions

def trend_strategy(data, **params):
    score = random.randint(5, 25) + int(data.get("trend", 0))
    return {"score": score, "reason": "Basic trend scoring"}

def arbitrage_strategy(data, **params):
    opportunity = data.get("spread", 0) > 2
    score = random.randint(10, 22) if opportunity else 5
    return {"score": score, "reason": "Spread-based arb scoring"}

def momentum_strategy(data, **params):
    momentum = data.get("momentum", 0)
    score = random.randint(8, 20) + int(momentum / 2)
    return {"score": score, "reason": "Momentum and velocity"}

# Setup engine and register agents

selector = BanditSelector()
selector.add_agent("TrendFollower", TradingAgent("TrendFollower", trend_strategy))
selector.add_agent("ArbMaster", TradingAgent("ArbMaster", arbitrage_strategy))
selector.add_agent("MomentumBot", TradingAgent("MomentumBot", momentum_strategy))

# Simulate live market rounds

market_snapshots = [
    {"trend": 3, "spread": 1.5, "momentum": 2},
    {"trend": 0, "spread": 3.2, "momentum": 7},
    {"trend": -2, "spread": 1.0, "momentum": 5},
    {"trend": 5, "spread": 2.3, "momentum": 0},
]

results = []
for snap in market_snapshots:
    winner, reason = selector.select_winner(snap)
    round_scores = selector.get_scores()
    results.append({"snapshot": snap, "winner": winner, "reason": reason, "scores": round_scores})

# Display results

import pandas as pd
print("Trading Battle Results\n")
for i, r in enumerate(results):
    print(f"Round {i+1}: Market = {r['snapshot']}")
    print(f"  Winner: {r['winner']}  –  {r['reason']}")
    print("  Scoreboard:", r['scores'])
    print("")

# Leaderboard
  
leaderboard = pd.DataFrame([
    {"Agent": agent, "TotalScore": score}
    for agent, score in results[-1]["scores"].items()
]).sort_values("TotalScore", ascending=False)

print("Final Leaderboard:")
print(leaderboard.to_string(index=False))
